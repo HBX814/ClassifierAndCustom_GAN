{
  "nbformat": 4,
  "nbformat_minor": 0,
  "metadata": {
    "colab": {
      "provenance": [],
      "gpuType": "T4"
    },
    "kernelspec": {
      "name": "python3",
      "display_name": "Python 3"
    },
    "language_info": {
      "name": "python"
    },
    "accelerator": "GPU"
  },
  "cells": [
    {
      "cell_type": "code",
      "source": [
        "from google.colab import drive\n",
        "drive.mount('/content/drive')"
      ],
      "metadata": {
        "colab": {
          "base_uri": "https://localhost:8080/"
        },
        "id": "1SL5dDrAD8X6",
        "outputId": "7dfe00dc-3db9-4f0e-9463-47fb67562930"
      },
      "execution_count": 1,
      "outputs": [
        {
          "output_type": "stream",
          "name": "stdout",
          "text": [
            "Drive already mounted at /content/drive; to attempt to forcibly remount, call drive.mount(\"/content/drive\", force_remount=True).\n"
          ]
        }
      ]
    },
    {
      "cell_type": "code",
      "source": [
        "pip install keras"
      ],
      "metadata": {
        "colab": {
          "base_uri": "https://localhost:8080/"
        },
        "id": "1TaZiEjdFhKm",
        "outputId": "e3684eb4-0d76-4a63-e1de-8e8d2d154b47"
      },
      "execution_count": 2,
      "outputs": [
        {
          "output_type": "stream",
          "name": "stdout",
          "text": [
            "Requirement already satisfied: keras in /usr/local/lib/python3.10/dist-packages (3.5.0)\n",
            "Requirement already satisfied: absl-py in /usr/local/lib/python3.10/dist-packages (from keras) (1.4.0)\n",
            "Requirement already satisfied: numpy in /usr/local/lib/python3.10/dist-packages (from keras) (1.26.4)\n",
            "Requirement already satisfied: rich in /usr/local/lib/python3.10/dist-packages (from keras) (13.9.4)\n",
            "Requirement already satisfied: namex in /usr/local/lib/python3.10/dist-packages (from keras) (0.0.8)\n",
            "Requirement already satisfied: h5py in /usr/local/lib/python3.10/dist-packages (from keras) (3.12.1)\n",
            "Requirement already satisfied: optree in /usr/local/lib/python3.10/dist-packages (from keras) (0.13.1)\n",
            "Requirement already satisfied: ml-dtypes in /usr/local/lib/python3.10/dist-packages (from keras) (0.4.1)\n",
            "Requirement already satisfied: packaging in /usr/local/lib/python3.10/dist-packages (from keras) (24.2)\n",
            "Requirement already satisfied: typing-extensions>=4.5.0 in /usr/local/lib/python3.10/dist-packages (from optree->keras) (4.12.2)\n",
            "Requirement already satisfied: markdown-it-py>=2.2.0 in /usr/local/lib/python3.10/dist-packages (from rich->keras) (3.0.0)\n",
            "Requirement already satisfied: pygments<3.0.0,>=2.13.0 in /usr/local/lib/python3.10/dist-packages (from rich->keras) (2.18.0)\n",
            "Requirement already satisfied: mdurl~=0.1 in /usr/local/lib/python3.10/dist-packages (from markdown-it-py>=2.2.0->rich->keras) (0.1.2)\n"
          ]
        }
      ]
    },
    {
      "cell_type": "code",
      "source": [
        "!pip install keras_preprocessing"
      ],
      "metadata": {
        "colab": {
          "base_uri": "https://localhost:8080/"
        },
        "id": "mQFAwUa3JqKO",
        "outputId": "36558a85-5d55-4b30-92d8-b34558e3d01e"
      },
      "execution_count": 3,
      "outputs": [
        {
          "output_type": "stream",
          "name": "stdout",
          "text": [
            "Collecting keras_preprocessing\n",
            "  Downloading Keras_Preprocessing-1.1.2-py2.py3-none-any.whl.metadata (1.9 kB)\n",
            "Requirement already satisfied: numpy>=1.9.1 in /usr/local/lib/python3.10/dist-packages (from keras_preprocessing) (1.26.4)\n",
            "Requirement already satisfied: six>=1.9.0 in /usr/local/lib/python3.10/dist-packages (from keras_preprocessing) (1.17.0)\n",
            "Downloading Keras_Preprocessing-1.1.2-py2.py3-none-any.whl (42 kB)\n",
            "\u001b[?25l   \u001b[90m━━━━━━━━━━━━━━━━━━━━━━━━━━━━━━━━━━━━━━━━\u001b[0m \u001b[32m0.0/42.6 kB\u001b[0m \u001b[31m?\u001b[0m eta \u001b[36m-:--:--\u001b[0m\r\u001b[2K   \u001b[90m━━━━━━━━━━━━━━━━━━━━━━━━━━━━━━━━━━━━━━━━\u001b[0m \u001b[32m42.6/42.6 kB\u001b[0m \u001b[31m3.2 MB/s\u001b[0m eta \u001b[36m0:00:00\u001b[0m\n",
            "\u001b[?25hInstalling collected packages: keras_preprocessing\n",
            "Successfully installed keras_preprocessing-1.1.2\n"
          ]
        }
      ]
    },
    {
      "cell_type": "code",
      "source": [
        "import os\n",
        "import numpy as np\n",
        "import pandas as pd\n",
        "from tqdm import tqdm\n",
        "from sklearn.preprocessing import LabelEncoder\n",
        "from keras.utils import to_categorical\n",
        "from keras_preprocessing.image import load_img\n",
        "from keras.models import Sequential\n",
        "from keras.layers import Dense, Conv2D, Dropout, Flatten, MaxPooling2D\n",
        "from keras.optimizers import Adam\n",
        "from keras.callbacks import EarlyStopping\n",
        "\n",
        "# Constants\n",
        "TRAIN_DIR = \"/content/drive/MyDrive/induction-task/Data/Train\"\n",
        "TEST_DIR = \"/content/drive/MyDrive/induction-task/Data/Test\"\n",
        "VALID_EXTENSIONS = (\".jpg\", \".jpeg\", \".png\")\n",
        "\n",
        "# Helper functions\n",
        "def preprocess_images(image_paths, target_size=(236, 236)):\n",
        "    \"\"\"Load and preprocess images.\"\"\"\n",
        "    features = []\n",
        "    valid_paths = []\n",
        "    invalid_paths = []\n",
        "    for path in tqdm(image_paths, desc=\"Preprocessing images\"):\n",
        "        try:\n",
        "            img = load_img(path, target_size=target_size)\n",
        "            img = np.array(img)\n",
        "            features.append(img)\n",
        "            valid_paths.append(path)\n",
        "        except Exception as e:\n",
        "            print(f\"Error loading {path}: {e}\")\n",
        "            invalid_paths.append(path)\n",
        "    features = np.array(features).reshape(-1, *target_size, 3)\n",
        "    return features, valid_paths, invalid_paths\n",
        "\n",
        "def create_dataframe(directory):\n",
        "    \"\"\"Create a dataframe with image paths and labels.\"\"\"\n",
        "    image_paths = []\n",
        "    labels = []\n",
        "    for label in os.listdir(directory):\n",
        "        label_dir = os.path.join(directory, label)\n",
        "        if os.path.isdir(label_dir):\n",
        "            for image_name in os.listdir(label_dir):\n",
        "                if image_name.lower().endswith(VALID_EXTENSIONS):\n",
        "                    image_paths.append(os.path.join(label_dir, image_name))\n",
        "                    labels.append(label)\n",
        "            print(f\"{label} completed.\")\n",
        "    return pd.DataFrame({\"image\": image_paths, \"label\": labels})\n",
        "\n",
        "# Load and preprocess training data\n",
        "print(\"Loading training data...\")\n",
        "train_df = create_dataframe(TRAIN_DIR)\n",
        "\n",
        "print(\"Preprocessing training images...\")\n",
        "train_features, valid_train_paths, _ = preprocess_images(train_df[\"image\"])\n",
        "x_train = train_features / 255.0  # Normalize pixel values\n",
        "\n",
        "# Encode labels\n",
        "le = LabelEncoder()\n",
        "train_labels = le.fit_transform(train_df[\"label\"])\n",
        "y_train = to_categorical(train_labels, num_classes=2)\n",
        "\n",
        "# Model definition\n",
        "model = Sequential([\n",
        "    Conv2D(32, kernel_size=(3, 3), activation='relu', input_shape=(236, 236, 3)),\n",
        "    MaxPooling2D(pool_size=(2, 2)),\n",
        "    Conv2D(64, kernel_size=(3, 3), activation='relu'),\n",
        "    MaxPooling2D(pool_size=(2, 2)),\n",
        "    Conv2D(128, kernel_size=(3, 3), activation='relu'),\n",
        "    MaxPooling2D(pool_size=(2, 2)),\n",
        "    Flatten(),\n",
        "    Dense(256, activation='relu'),\n",
        "    Dropout(0.3),\n",
        "    Dense(128, activation='relu'),\n",
        "    Dense(2, activation='softmax')\n",
        "])\n",
        "\n",
        "model.compile(optimizer=Adam(learning_rate=0.001), loss='categorical_crossentropy', metrics=['accuracy'])\n",
        "\n",
        "# Train the model\n",
        "print(\"Training the model...\")\n",
        "early_stopping = EarlyStopping(monitor='val_loss', patience=5, restore_best_weights=True)\n",
        "model.fit(x_train, y_train, validation_split=0.2, batch_size=32, epochs=20, callbacks=[early_stopping])\n",
        "\n",
        "# Preprocess test images\n",
        "print(\"Loading and preprocessing test data...\")\n",
        "test_images = sorted([img for img in os.listdir(TEST_DIR) if img.lower().endswith(VALID_EXTENSIONS)],\n",
        "                     key=lambda x: int(x.split('_')[1].split('.')[0]))\n",
        "test_paths = [os.path.join(TEST_DIR, img) for img in test_images]\n",
        "\n",
        "x_test, valid_test_paths, invalid_test_paths = preprocess_images(test_paths)\n",
        "x_test = x_test / 255.0  # Normalize test data\n",
        "\n",
        "# Make predictions for valid images\n",
        "print(\"Making predictions...\")\n",
        "predictions = model.predict(x_test)\n",
        "predicted_labels = le.inverse_transform(np.argmax(predictions, axis=1))\n",
        "\n",
        "# Create submission entries for valid and invalid images\n",
        "submission_data = []\n",
        "valid_image_to_label = dict(zip(valid_test_paths, predicted_labels))\n",
        "\n",
        "for img_path in test_paths:\n",
        "    img_name = os.path.basename(img_path).split('.')[0]  # Remove the file extension\n",
        "    if img_path in valid_image_to_label:\n",
        "        submission_data.append((img_name, valid_image_to_label[img_path]))\n",
        "    else:\n",
        "        submission_data.append((img_name, \"Real\"))  # Default label for invalid images\n",
        "\n",
        "# Create submission file\n",
        "print(\"Creating submission file...\")\n",
        "submission = pd.DataFrame(submission_data, columns=['Id', 'Label'])\n",
        "submission.to_csv(\"submission.csv\", index=False)\n",
        "print(\"Submission file created successfully!\")\n"
      ],
      "metadata": {
        "colab": {
          "base_uri": "https://localhost:8080/"
        },
        "id": "Z811Jv3TnjH9",
        "outputId": "6fba00b5-4852-4cbf-b653-af7d7bb5cdec"
      },
      "execution_count": 4,
      "outputs": [
        {
          "output_type": "stream",
          "name": "stdout",
          "text": [
            "Loading training data...\n",
            "AI completed.\n",
            "Real completed.\n",
            "Preprocessing training images...\n"
          ]
        },
        {
          "output_type": "stream",
          "name": "stderr",
          "text": [
            "Preprocessing images: 100%|██████████| 801/801 [04:43<00:00,  2.82it/s]\n",
            "/usr/local/lib/python3.10/dist-packages/keras/src/layers/convolutional/base_conv.py:107: UserWarning: Do not pass an `input_shape`/`input_dim` argument to a layer. When using Sequential models, prefer using an `Input(shape)` object as the first layer in the model instead.\n",
            "  super().__init__(activity_regularizer=activity_regularizer, **kwargs)\n"
          ]
        },
        {
          "output_type": "stream",
          "name": "stdout",
          "text": [
            "Training the model...\n",
            "Epoch 1/20\n",
            "\u001b[1m20/20\u001b[0m \u001b[32m━━━━━━━━━━━━━━━━━━━━\u001b[0m\u001b[37m\u001b[0m \u001b[1m13s\u001b[0m 263ms/step - accuracy: 0.5915 - loss: 1.6614 - val_accuracy: 0.4658 - val_loss: 1.0712\n",
            "Epoch 2/20\n",
            "\u001b[1m20/20\u001b[0m \u001b[32m━━━━━━━━━━━━━━━━━━━━\u001b[0m\u001b[37m\u001b[0m \u001b[1m10s\u001b[0m 79ms/step - accuracy: 0.9076 - loss: 0.2550 - val_accuracy: 0.9814 - val_loss: 0.0600\n",
            "Epoch 3/20\n",
            "\u001b[1m20/20\u001b[0m \u001b[32m━━━━━━━━━━━━━━━━━━━━\u001b[0m\u001b[37m\u001b[0m \u001b[1m2s\u001b[0m 65ms/step - accuracy: 0.9709 - loss: 0.0672 - val_accuracy: 0.9814 - val_loss: 0.1240\n",
            "Epoch 4/20\n",
            "\u001b[1m20/20\u001b[0m \u001b[32m━━━━━━━━━━━━━━━━━━━━\u001b[0m\u001b[37m\u001b[0m \u001b[1m1s\u001b[0m 63ms/step - accuracy: 0.9935 - loss: 0.0231 - val_accuracy: 0.9752 - val_loss: 0.0652\n",
            "Epoch 5/20\n",
            "\u001b[1m20/20\u001b[0m \u001b[32m━━━━━━━━━━━━━━━━━━━━\u001b[0m\u001b[37m\u001b[0m \u001b[1m1s\u001b[0m 61ms/step - accuracy: 0.9853 - loss: 0.0349 - val_accuracy: 0.9565 - val_loss: 0.1638\n",
            "Epoch 6/20\n",
            "\u001b[1m20/20\u001b[0m \u001b[32m━━━━━━━━━━━━━━━━━━━━\u001b[0m\u001b[37m\u001b[0m \u001b[1m1s\u001b[0m 67ms/step - accuracy: 0.9896 - loss: 0.0331 - val_accuracy: 1.0000 - val_loss: 0.0018\n",
            "Epoch 7/20\n",
            "\u001b[1m20/20\u001b[0m \u001b[32m━━━━━━━━━━━━━━━━━━━━\u001b[0m\u001b[37m\u001b[0m \u001b[1m1s\u001b[0m 69ms/step - accuracy: 0.9982 - loss: 0.0087 - val_accuracy: 1.0000 - val_loss: 9.1083e-04\n",
            "Epoch 8/20\n",
            "\u001b[1m20/20\u001b[0m \u001b[32m━━━━━━━━━━━━━━━━━━━━\u001b[0m\u001b[37m\u001b[0m \u001b[1m1s\u001b[0m 67ms/step - accuracy: 1.0000 - loss: 0.0021 - val_accuracy: 1.0000 - val_loss: 9.5921e-05\n",
            "Epoch 9/20\n",
            "\u001b[1m20/20\u001b[0m \u001b[32m━━━━━━━━━━━━━━━━━━━━\u001b[0m\u001b[37m\u001b[0m \u001b[1m1s\u001b[0m 64ms/step - accuracy: 0.9919 - loss: 0.0244 - val_accuracy: 0.9379 - val_loss: 0.2573\n",
            "Epoch 10/20\n",
            "\u001b[1m20/20\u001b[0m \u001b[32m━━━━━━━━━━━━━━━━━━━━\u001b[0m\u001b[37m\u001b[0m \u001b[1m1s\u001b[0m 61ms/step - accuracy: 0.9860 - loss: 0.0428 - val_accuracy: 0.9876 - val_loss: 0.0759\n",
            "Epoch 11/20\n",
            "\u001b[1m20/20\u001b[0m \u001b[32m━━━━━━━━━━━━━━━━━━━━\u001b[0m\u001b[37m\u001b[0m \u001b[1m1s\u001b[0m 67ms/step - accuracy: 1.0000 - loss: 0.0033 - val_accuracy: 0.9876 - val_loss: 0.0518\n",
            "Epoch 12/20\n",
            "\u001b[1m20/20\u001b[0m \u001b[32m━━━━━━━━━━━━━━━━━━━━\u001b[0m\u001b[37m\u001b[0m \u001b[1m3s\u001b[0m 68ms/step - accuracy: 0.9994 - loss: 0.0033 - val_accuracy: 0.9689 - val_loss: 0.2525\n",
            "Epoch 13/20\n",
            "\u001b[1m20/20\u001b[0m \u001b[32m━━━━━━━━━━━━━━━━━━━━\u001b[0m\u001b[37m\u001b[0m \u001b[1m2s\u001b[0m 64ms/step - accuracy: 1.0000 - loss: 0.0034 - val_accuracy: 0.9814 - val_loss: 0.1706\n",
            "Loading and preprocessing test data...\n"
          ]
        },
        {
          "output_type": "stream",
          "name": "stderr",
          "text": [
            "Preprocessing images:  31%|███       | 62/200 [00:13<00:24,  5.60it/s]"
          ]
        },
        {
          "output_type": "stream",
          "name": "stdout",
          "text": [
            "Error loading /content/drive/MyDrive/induction-task/Data/Test/image_62.jpg: cannot identify image file <_io.BytesIO object at 0x79024015b1a0>\n"
          ]
        },
        {
          "output_type": "stream",
          "name": "stderr",
          "text": [
            "Preprocessing images: 100%|██████████| 200/200 [00:26<00:00,  7.54it/s]\n"
          ]
        },
        {
          "output_type": "stream",
          "name": "stdout",
          "text": [
            "Making predictions...\n",
            "\u001b[1m7/7\u001b[0m \u001b[32m━━━━━━━━━━━━━━━━━━━━\u001b[0m\u001b[37m\u001b[0m \u001b[1m1s\u001b[0m 161ms/step\n",
            "Creating submission file...\n",
            "Submission file created successfully!\n"
          ]
        }
      ]
    },
    {
      "cell_type": "code",
      "source": [],
      "metadata": {
        "id": "ZBU5CqvJnqD6"
      },
      "execution_count": null,
      "outputs": []
    }
  ]
}